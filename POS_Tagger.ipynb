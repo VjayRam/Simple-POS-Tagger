{
 "cells": [
  {
   "cell_type": "code",
   "execution_count": 1,
   "id": "47ca2164",
   "metadata": {},
   "outputs": [],
   "source": [
    "import nltk\n",
    "import numpy as np\n",
    "from nltk import word_tokenize\n",
    "import matplotlib.pyplot as plt\n",
    "%matplotlib inline\n",
    "from sklearn.feature_extraction import DictVectorizer\n",
    "from sklearn.model_selection import train_test_split\n",
    "from sklearn.ensemble import RandomForestClassifier\n",
    "from sklearn.metrics import accuracy_score\n",
    "from sklearn.metrics import confusion_matrix"
   ]
  },
  {
   "cell_type": "code",
   "execution_count": 2,
   "id": "0268b9e7",
   "metadata": {},
   "outputs": [],
   "source": [
    "def sentence_features(st, ix):\n",
    "    d_ft = {}\n",
    "    d_ft['word'] = st[ix]\n",
    "    d_ft['dist_from_first'] = ix - 0\n",
    "    d_ft['dist_from_last'] = len(st) - ix\n",
    "    d_ft['capitalized'] = st[ix][0].upper() == st[ix][0]\n",
    "    d_ft['prefix1'] = st[ix][0]\n",
    "    d_ft['prefix2'] = st[ix][:2]\n",
    "    d_ft['prefix3'] = st[ix][:3]\n",
    "    d_ft['suffix1'] = st[ix][-1]\n",
    "    d_ft['suffix2'] = st[ix][-2:]\n",
    "    d_ft['suffix3'] = st[ix][-3:]\n",
    "    d_ft['prev_word'] = '' if ix==0 else st[ix-1]\n",
    "    d_ft['next_word'] = '' if ix==(len(st)-1) else st[ix+1]\n",
    "    d_ft['numeric'] = st[ix].isdigit()\n",
    "    return d_ft"
   ]
  },
  {
   "cell_type": "code",
   "execution_count": 5,
   "id": "45849586",
   "metadata": {},
   "outputs": [],
   "source": [
    "def get_untagged_sentence(tagged_sentence):\n",
    "    [s,t] = zip(*tagged_sentence)\n",
    "    return list(s)"
   ]
  },
  {
   "cell_type": "code",
   "execution_count": 6,
   "id": "353ef9e2",
   "metadata": {},
   "outputs": [],
   "source": [
    "tagged_sentences = nltk.corpus.treebank.tagged_sents(tagset='universal')"
   ]
  },
  {
   "cell_type": "code",
   "execution_count": 7,
   "id": "0b2b8888",
   "metadata": {
    "scrolled": true
   },
   "outputs": [],
   "source": [
    "def ext_ft(tg_sent):\n",
    "    sent, tag = [], []\n",
    "    for tg in tg_sent:\n",
    "        for index in range(len(tg)):\n",
    "            sent.append(sentence_features(get_untagged_sentence(tg),index))\n",
    "            tag.append(tg[index][1])\n",
    "    return sent, tag\n",
    "X,y = ext_ft(tagged_sentences)"
   ]
  },
  {
   "cell_type": "code",
   "execution_count": 55,
   "id": "37fcd6ca",
   "metadata": {},
   "outputs": [],
   "source": [
    "n_sample = 4000\n",
    "dict_vectorizer = DictVectorizer(sparse=False)\n",
    "X_transformed = dict_vectorizer.fit_transform(X[0:n_sample])\n",
    "y_sampled = y[0:n_sample]"
   ]
  },
  {
   "cell_type": "code",
   "execution_count": 56,
   "id": "579e7752",
   "metadata": {},
   "outputs": [],
   "source": [
    "X_train,X_test,y_train,y_test = train_test_split(X_transformed, y_sampled, test_size=0.2, random_state=1)"
   ]
  },
  {
   "cell_type": "code",
   "execution_count": 57,
   "id": "efac9582",
   "metadata": {},
   "outputs": [
    {
     "data": {
      "text/plain": [
       "RandomForestClassifier(n_jobs=4)"
      ]
     },
     "execution_count": 57,
     "metadata": {},
     "output_type": "execute_result"
    }
   ],
   "source": [
    "rf = RandomForestClassifier(n_jobs=4)\n",
    "rf.fit(X_train,y_train)"
   ]
  },
  {
   "cell_type": "code",
   "execution_count": 58,
   "id": "2d4f0405",
   "metadata": {},
   "outputs": [],
   "source": [
    "def predict_pos_tags(sentence):\n",
    "    tagged_sentence = []\n",
    "    features = [sentence_features(sentence, index) for index in range(len(sentence))]\n",
    "    features = dict_vectorizer.transform(features)\n",
    "    tags = rf.predict(features)\n",
    "    return zip(sentence, tags)"
   ]
  },
  {
   "cell_type": "code",
   "execution_count": 59,
   "id": "e9aacced",
   "metadata": {},
   "outputs": [
    {
     "name": "stdout",
     "output_type": "stream",
     "text": [
      "('This', 'DET')\n",
      "('is', 'VERB')\n",
      "('a', 'DET')\n",
      "('simple', 'ADJ')\n",
      "('POS', 'NOUN')\n",
      "('tagger', 'NOUN')\n"
     ]
    }
   ],
   "source": [
    "test_sentence = \"This is a simple POS tagger\"\n",
    "for tagged in predict_pos_tags(test_sentence.split()):\n",
    "    print(tagged)"
   ]
  },
  {
   "cell_type": "code",
   "execution_count": 60,
   "id": "17b2ce7e",
   "metadata": {},
   "outputs": [],
   "source": [
    "predictions = rf.predict(X_test)"
   ]
  },
  {
   "cell_type": "code",
   "execution_count": 61,
   "id": "a3abe8b7",
   "metadata": {},
   "outputs": [
    {
     "data": {
      "text/plain": [
       "0.91"
      ]
     },
     "execution_count": 61,
     "metadata": {},
     "output_type": "execute_result"
    }
   ],
   "source": [
    "accuracy_score(y_test,predictions)"
   ]
  },
  {
   "cell_type": "code",
   "execution_count": 62,
   "id": "cb203146",
   "metadata": {},
   "outputs": [],
   "source": [
    "conf_matrix = confusion_matrix(y_test,predictions)"
   ]
  },
  {
   "cell_type": "code",
   "execution_count": 63,
   "id": "37f04bb3",
   "metadata": {},
   "outputs": [
    {
     "data": {
      "text/plain": [
       "<matplotlib.colorbar.Colorbar at 0x1cc77a70310>"
      ]
     },
     "execution_count": 63,
     "metadata": {},
     "output_type": "execute_result"
    },
    {
     "data": {
      "image/png": "[encoded data removed]",
      "text/plain": [
       "<Figure size 720x720 with 2 Axes>"
      ]
     },
     "metadata": {
      "needs_background": "light"
     },
     "output_type": "display_data"
    }
   ],
   "source": [
    "plt.figure(figsize=(10,10))\n",
    "plt.xticks(np.arange(len(rf.classes_)),rf.classes_)\n",
    "plt.yticks(np.arange(len(rf.classes_)),rf.classes_)\n",
    "plt.imshow(conf_matrix,cmap=plt.cm.Blues)\n",
    "plt.colorbar()"
   ]
  },
  {
   "cell_type": "code",
   "execution_count": 64,
   "id": "b4a75ab1",
   "metadata": {},
   "outputs": [
    {
     "name": "stdout",
     "output_type": "stream",
     "text": [
      "[('dist_from_last', 0.016475929453850558), ('capitalized', 0.016462393865514968), ('prefix1=*', 0.014613531947979739), ('suffix2=ed', 0.013862922282455637), ('suffix2=he', 0.011661475965111676), ('suffix1=d', 0.011377350203585617), ('word=the', 0.010992752381792046), ('prefix3=the', 0.010925668695243855), ('prefix1=,', 0.010477048728944015), ('dist_from_first', 0.010130392106582621), ('prefix2=th', 0.009717717723642817), ('word=,', 0.008788921738248662), ('suffix2=,', 0.008679687334692597), ('numeric', 0.008345788088973202), ('suffix1=s', 0.007598435045879818), ('suffix3=the', 0.007524633985698277), ('suffix1=,', 0.0074747783502617645), ('prefix2=,', 0.007391371648939899), ('prefix2=to', 0.006778394267550995), ('suffix1=f', 0.006761741315976549)]\n"
     ]
    }
   ],
   "source": [
    "feature_list = zip(dict_vectorizer.get_feature_names(),rf.feature_importances_)\n",
    "sorted_features = sorted(feature_list,key=lambda x: x[1], reverse=True)\n",
    "print(sorted_features[0:20])"
   ]
  },
  {
   "cell_type": "code",
   "execution_count": null,
   "id": "e33f93c6",
   "metadata": {},
   "outputs": [],
   "source": []
  }
 ],
 "metadata": {
  "kernelspec": {
   "display_name": "Python 3 (ipykernel)",
   "language": "python",
   "name": "python3"
  },
  "language_info": {
   "codemirror_mode": {
    "name": "ipython",
    "version": 3
   },
   "file_extension": ".py",
   "mimetype": "text/x-python",
   "name": "python",
   "nbconvert_exporter": "python",
   "pygments_lexer": "ipython3",
   "version": "3.9.7"
  }
 },
 "nbformat": 4,
 "nbformat_minor": 5
}
